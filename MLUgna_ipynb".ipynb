{
  "nbformat": 4,
  "nbformat_minor": 0,
  "metadata": {
    "colab": {
      "name": "MLUgna.ipynb\"",
      "provenance": [],
      "collapsed_sections": [],
      "authorship_tag": "ABX9TyPRUzbAnrZDdzRPyvL9UI/B",
      "include_colab_link": true
    },
    "kernelspec": {
      "name": "python3",
      "display_name": "Python 3"
    },
    "language_info": {
      "name": "python"
    }
  },
  "cells": [
    {
      "cell_type": "markdown",
      "metadata": {
        "id": "view-in-github",
        "colab_type": "text"
      },
      "source": [
        "<a href=\"https://colab.research.google.com/github/Soitch/EUROBOT-2019/blob/master/MLUgna_ipynb%22.ipynb\" target=\"_parent\"><img src=\"https://colab.research.google.com/assets/colab-badge.svg\" alt=\"Open In Colab\"/></a>"
      ]
    },
    {
      "cell_type": "markdown",
      "source": [
        "# **## ПРОЕКТ HR c использованием KERAS**"
      ],
      "metadata": {
        "id": "xu0eoWcRi-fG"
      }
    },
    {
      "cell_type": "markdown",
      "source": [
        "Загрузка с ГИТа базы данных"
      ],
      "metadata": {
        "id": "oItf_6XHbB5C"
      }
    },
    {
      "cell_type": "code",
      "execution_count": 2,
      "metadata": {
        "id": "eEn9sTphaygy"
      },
      "outputs": [],
      "source": [
        "import pandas as pd\n",
        "import numpy as np\n",
        "df = pd.read_csv(\"https://raw.githubusercontent.com/mwitiderrick/kerasDO/master/HR_comma_sep.csv\")"
      ]
    },
    {
      "cell_type": "code",
      "source": [
        "#!git clone https://github.com/nlp-with-transformers/notebooks.git"
      ],
      "metadata": {
        "id": "39cOf7IwcEuI"
      },
      "execution_count": null,
      "outputs": []
    },
    {
      "cell_type": "code",
      "source": [
        "#!cd notebooks"
      ],
      "metadata": {
        "id": "vu4MYnEDcSlB"
      },
      "execution_count": null,
      "outputs": []
    },
    {
      "cell_type": "code",
      "source": [
        "df.head()"
      ],
      "metadata": {
        "id": "GwqEZvlCa-Rt"
      },
      "execution_count": null,
      "outputs": []
    },
    {
      "cell_type": "markdown",
      "source": [
        "преобразование категориальных столбцов в числа. Делаем это, преобразовывая их в фиктивные переменные.\n",
        "feats = ['department','salary']определяет два столбца, для которых вы хотите создать фиктивные переменные. pd.get_dummies(df,columns=feats,drop_first=True) генерирует числовые переменные"
      ],
      "metadata": {
        "id": "Nmt4sZOgjqgz"
      }
    },
    {
      "cell_type": "code",
      "source": [
        "feats = ['department','salary']\n",
        "df_final = pd.get_dummies(df,columns=feats,drop_first=True)\n",
        "df_final"
      ],
      "metadata": {
        "id": "EWM6hqgleivz"
      },
      "execution_count": null,
      "outputs": []
    },
    {
      "cell_type": "code",
      "source": [
        "from sklearn.model_selection import train_test_split"
      ],
      "metadata": {
        "id": "SuC8BB18fdHy"
      },
      "execution_count": 5,
      "outputs": []
    },
    {
      "cell_type": "code",
      "source": [
        "X = df_final.drop(['left'],axis=1).values\n",
        "y = df_final['left'].values"
      ],
      "metadata": {
        "id": "-psVE7fefi9A"
      },
      "execution_count": 6,
      "outputs": []
    },
    {
      "cell_type": "code",
      "source": [
        "X_train, X_test, y_train, y_test = train_test_split(X, y, test_size=0.3)"
      ],
      "metadata": {
        "id": "c-aoJAX6fn6I"
      },
      "execution_count": 8,
      "outputs": []
    },
    {
      "cell_type": "code",
      "source": [
        "from sklearn.preprocessing import StandardScaler\n",
        "sc = StandardScaler()\n",
        "X_train = sc.fit_transform(X_train)\n",
        "X_test = sc.transform(X_test)"
      ],
      "metadata": {
        "id": "YF_SRo1_f0FO"
      },
      "execution_count": 10,
      "outputs": []
    },
    {
      "cell_type": "code",
      "source": [
        "import keras\n",
        "from keras.models import Sequential\n",
        "from keras.layers import Dense"
      ],
      "metadata": {
        "id": "5WQxMScZf9Ku"
      },
      "execution_count": 11,
      "outputs": []
    },
    {
      "cell_type": "code",
      "source": [
        "classifier = Sequential()"
      ],
      "metadata": {
        "id": "q3bDwXQQgDeO"
      },
      "execution_count": 12,
      "outputs": []
    },
    {
      "cell_type": "code",
      "source": [
        "classifier.add(Dense(9, kernel_initializer = \"uniform\",activation = \"relu\", input_dim=18))"
      ],
      "metadata": {
        "id": "5WrlrEjIgIuX"
      },
      "execution_count": 13,
      "outputs": []
    },
    {
      "cell_type": "code",
      "source": [
        "classifier.add(Dense(1, kernel_initializer = \"uniform\",activation = \"sigmoid\"))"
      ],
      "metadata": {
        "id": "OOZ29hoagVaS"
      },
      "execution_count": 14,
      "outputs": []
    },
    {
      "cell_type": "code",
      "source": [
        "classifier.compile(optimizer= \"adam\",loss = \"binary_crossentropy\",metrics = [\"accuracy\"])"
      ],
      "metadata": {
        "id": "LqT_7rajge8m"
      },
      "execution_count": 15,
      "outputs": []
    },
    {
      "cell_type": "code",
      "source": [
        "classifier.fit(X_train, y_train, batch_size = 10, epochs = 1)"
      ],
      "metadata": {
        "colab": {
          "base_uri": "https://localhost:8080/"
        },
        "id": "0J2OzPx6gmv5",
        "outputId": "c6e76a78-5b40-446d-cbbd-8ea0c321cad8"
      },
      "execution_count": 16,
      "outputs": [
        {
          "output_type": "stream",
          "name": "stdout",
          "text": [
            "1050/1050 [==============================] - 4s 2ms/step - loss: 0.4250 - accuracy: 0.8001\n"
          ]
        },
        {
          "output_type": "execute_result",
          "data": {
            "text/plain": [
              "<keras.callbacks.History at 0x7f097308e2d0>"
            ]
          },
          "metadata": {},
          "execution_count": 16
        }
      ]
    },
    {
      "cell_type": "code",
      "source": [
        "y_pred = classifier.predict(X_test)"
      ],
      "metadata": {
        "id": "S45OWq2vgvqj"
      },
      "execution_count": 17,
      "outputs": []
    },
    {
      "cell_type": "code",
      "source": [
        "y_pred = (y_pred > 0.5)"
      ],
      "metadata": {
        "id": "kM-ACKvHg0LL"
      },
      "execution_count": 18,
      "outputs": []
    },
    {
      "cell_type": "code",
      "source": [
        "from sklearn.metrics import confusion_matrix\n",
        "cm = confusion_matrix(y_test, y_pred)\n",
        "cm"
      ],
      "metadata": {
        "id": "a10HPNh3g5X8"
      },
      "execution_count": null,
      "outputs": []
    },
    {
      "cell_type": "code",
      "source": [
        "new_pred = classifier.predict(sc.transform(np.array([[0.26,0.7 ,3., 238., 6., 0.,0.,0.,0., 0.,0.,0.,0.,0.,1.,0., 0.,1.]])))"
      ],
      "metadata": {
        "id": "WlRm8MZThBbE"
      },
      "execution_count": 20,
      "outputs": []
    },
    {
      "cell_type": "code",
      "source": [
        "new_pred = (new_pred > 0.5)\n",
        "new_pred"
      ],
      "metadata": {
        "colab": {
          "base_uri": "https://localhost:8080/"
        },
        "id": "klJAlq5WhFPT",
        "outputId": "83120939-dda7-463c-8e27-b3abd262d736"
      },
      "execution_count": 21,
      "outputs": [
        {
          "output_type": "execute_result",
          "data": {
            "text/plain": [
              "array([[ True]])"
            ]
          },
          "metadata": {},
          "execution_count": 21
        }
      ]
    },
    {
      "cell_type": "code",
      "source": [
        "new_pred = (new_pred > 0.6)\n",
        "new_pred"
      ],
      "metadata": {
        "colab": {
          "base_uri": "https://localhost:8080/"
        },
        "id": "UNv8tLcdhMXR",
        "outputId": "cd43fbde-d922-449f-8521-028e46c49ce3"
      },
      "execution_count": 22,
      "outputs": [
        {
          "output_type": "execute_result",
          "data": {
            "text/plain": [
              "array([[ True]])"
            ]
          },
          "metadata": {},
          "execution_count": 22
        }
      ]
    },
    {
      "cell_type": "code",
      "source": [
        "from keras.wrappers.scikit_learn import KerasClassifier\n",
        "from sklearn.model_selection import cross_val_score"
      ],
      "metadata": {
        "id": "_Tl8bMm_hR1i"
      },
      "execution_count": 23,
      "outputs": []
    },
    {
      "cell_type": "code",
      "source": [
        "def make_classifier():\n",
        "    classifier = Sequential()\n",
        "    classifier.add(Dense(9, kernel_initializer = \"uniform\", activation = \"relu\", input_dim=18))\n",
        "    classifier.add(Dense(1, kernel_initializer = \"uniform\", activation = \"sigmoid\"))\n",
        "    classifier.compile(optimizer= \"adam\",loss = \"binary_crossentropy\",metrics = [\"accuracy\"])\n",
        "    return classifier"
      ],
      "metadata": {
        "id": "Kpi2F47zhVgy"
      },
      "execution_count": 26,
      "outputs": []
    },
    {
      "cell_type": "code",
      "source": [
        "classifier = KerasClassifier(build_fn = make_classifier, batch_size=10, nb_epoch=1)"
      ],
      "metadata": {
        "colab": {
          "base_uri": "https://localhost:8080/"
        },
        "id": "Dj23PjnohZYo",
        "outputId": "61d258d1-06ae-470a-b054-8e465d7ffd6d"
      },
      "execution_count": 27,
      "outputs": [
        {
          "output_type": "stream",
          "name": "stderr",
          "text": [
            "/usr/local/lib/python3.7/dist-packages/ipykernel_launcher.py:1: DeprecationWarning: KerasClassifier is deprecated, use Sci-Keras (https://github.com/adriangb/scikeras) instead. See https://www.adriangb.com/scikeras/stable/migration.html for help migrating.\n",
            "  \"\"\"Entry point for launching an IPython kernel.\n"
          ]
        }
      ]
    },
    {
      "cell_type": "code",
      "source": [
        "accuracies = cross_val_score(estimator = classifier,X = X_train,y = y_train,cv = 10,n_jobs = -1)"
      ],
      "metadata": {
        "id": "kdaEJI1Ih1MM"
      },
      "execution_count": 28,
      "outputs": []
    },
    {
      "cell_type": "code",
      "source": [
        "mean = accuracies.mean()\n",
        "mean"
      ],
      "metadata": {
        "colab": {
          "base_uri": "https://localhost:8080/"
        },
        "id": "yUJJElErh9-i",
        "outputId": "eff4f845-53db-4870-bb81-9dd9a9830c62"
      },
      "execution_count": 29,
      "outputs": [
        {
          "output_type": "execute_result",
          "data": {
            "text/plain": [
              "0.8110242009162902"
            ]
          },
          "metadata": {},
          "execution_count": 29
        }
      ]
    },
    {
      "cell_type": "code",
      "source": [
        "variance = accuracies.var()\n",
        "variance"
      ],
      "metadata": {
        "colab": {
          "base_uri": "https://localhost:8080/"
        },
        "id": "YB2YQ2PxiDIM",
        "outputId": "d1ebfb01-6669-4e72-f635-df1ddab94915"
      },
      "execution_count": 30,
      "outputs": [
        {
          "output_type": "execute_result",
          "data": {
            "text/plain": [
              "0.002754627744787399"
            ]
          },
          "metadata": {},
          "execution_count": 30
        }
      ]
    },
    {
      "cell_type": "code",
      "source": [
        "from keras.layers import Dropout\n",
        "\n",
        "classifier = Sequential()\n",
        "classifier.add(Dense(9, kernel_initializer = \"uniform\", activation = \"relu\", input_dim=18))\n",
        "classifier.add(Dropout(rate = 0.1))\n",
        "classifier.add(Dense(1, kernel_initializer = \"uniform\", activation = \"sigmoid\"))\n",
        "classifier.compile(optimizer= \"adam\",loss = \"binary_crossentropy\",metrics = [\"accuracy\"])"
      ],
      "metadata": {
        "id": "xDCrt63YiIZS"
      },
      "execution_count": 31,
      "outputs": []
    },
    {
      "cell_type": "code",
      "source": [
        "from sklearn.model_selection import GridSearchCV\n",
        "def make_classifier(optimizer):\n",
        "    classifier = Sequential()\n",
        "    classifier.add(Dense(9, kernel_initializer = \"uniform\", activation = \"relu\", input_dim=18))\n",
        "    classifier.add(Dense(1, kernel_initializer = \"uniform\", activation = \"sigmoid\"))\n",
        "    classifier.compile(optimizer= optimizer,loss = \"binary_crossentropy\",metrics = [\"accuracy\"])\n",
        "    return classifier"
      ],
      "metadata": {
        "id": "1UziY-NhiMNn"
      },
      "execution_count": 32,
      "outputs": []
    },
    {
      "cell_type": "code",
      "source": [
        "classifier = KerasClassifier(build_fn = make_classifier)"
      ],
      "metadata": {
        "colab": {
          "base_uri": "https://localhost:8080/"
        },
        "id": "Oj9vCMePiP30",
        "outputId": "5e7b9979-9e29-4690-eeed-3df63e174277"
      },
      "execution_count": 34,
      "outputs": [
        {
          "output_type": "stream",
          "name": "stderr",
          "text": [
            "/usr/local/lib/python3.7/dist-packages/ipykernel_launcher.py:1: DeprecationWarning: KerasClassifier is deprecated, use Sci-Keras (https://github.com/adriangb/scikeras) instead. See https://www.adriangb.com/scikeras/stable/migration.html for help migrating.\n",
            "  \"\"\"Entry point for launching an IPython kernel.\n"
          ]
        }
      ]
    },
    {
      "cell_type": "code",
      "source": [
        "params = {\n",
        "    'batch_size':[20,35],\n",
        "    'epochs':[2,3],\n",
        "    'optimizer':['adam','rmsprop']\n",
        "}"
      ],
      "metadata": {
        "id": "IvH-udlyiUgK"
      },
      "execution_count": 35,
      "outputs": []
    },
    {
      "cell_type": "code",
      "source": [
        "grid_search = GridSearchCV(estimator=classifier,\n",
        "                           param_grid=params,\n",
        "                           scoring=\"accuracy\",\n",
        "                           cv=2)"
      ],
      "metadata": {
        "id": "wIgN0HONiYxX"
      },
      "execution_count": 36,
      "outputs": []
    },
    {
      "cell_type": "code",
      "source": [
        "grid_search = grid_search.fit(X_train,y_train)"
      ],
      "metadata": {
        "colab": {
          "base_uri": "https://localhost:8080/"
        },
        "id": "XDGNYuhQicZK",
        "outputId": "a234b821-e75d-454d-f75b-36f717789e92"
      },
      "execution_count": 37,
      "outputs": [
        {
          "output_type": "stream",
          "name": "stdout",
          "text": [
            "Epoch 1/2\n",
            "263/263 [==============================] - 2s 3ms/step - loss: 0.6011 - accuracy: 0.7550\n",
            "Epoch 2/2\n",
            "263/263 [==============================] - 0s 2ms/step - loss: 0.4078 - accuracy: 0.8312\n",
            "Epoch 1/2\n",
            "263/263 [==============================] - 1s 2ms/step - loss: 0.5854 - accuracy: 0.7625\n",
            "Epoch 2/2\n",
            "263/263 [==============================] - 0s 2ms/step - loss: 0.4036 - accuracy: 0.8175\n",
            "Epoch 1/2\n",
            "263/263 [==============================] - 1s 1ms/step - loss: 0.6206 - accuracy: 0.7521\n",
            "Epoch 2/2\n",
            "263/263 [==============================] - 0s 2ms/step - loss: 0.4506 - accuracy: 0.8251\n",
            "Epoch 1/2\n",
            "263/263 [==============================] - 1s 1ms/step - loss: 0.5861 - accuracy: 0.7627\n",
            "Epoch 2/2\n",
            "263/263 [==============================] - 0s 2ms/step - loss: 0.4274 - accuracy: 0.7850\n",
            "Epoch 1/3\n",
            "263/263 [==============================] - 1s 2ms/step - loss: 0.5758 - accuracy: 0.7579\n",
            "Epoch 2/3\n",
            "263/263 [==============================] - 1s 2ms/step - loss: 0.4247 - accuracy: 0.7582\n",
            "Epoch 3/3\n",
            "263/263 [==============================] - 1s 2ms/step - loss: 0.3830 - accuracy: 0.7582\n",
            "Epoch 1/3\n",
            "263/263 [==============================] - 1s 2ms/step - loss: 0.5960 - accuracy: 0.7560\n",
            "Epoch 2/3\n",
            "263/263 [==============================] - 0s 2ms/step - loss: 0.4062 - accuracy: 0.8175\n",
            "Epoch 3/3\n",
            "263/263 [==============================] - 0s 2ms/step - loss: 0.3178 - accuracy: 0.8669\n",
            "Epoch 1/3\n",
            "263/263 [==============================] - 1s 2ms/step - loss: 0.5975 - accuracy: 0.7542\n",
            "Epoch 2/3\n",
            "263/263 [==============================] - 0s 2ms/step - loss: 0.4395 - accuracy: 0.7826\n",
            "Epoch 3/3\n",
            "263/263 [==============================] - 0s 2ms/step - loss: 0.3836 - accuracy: 0.7969\n",
            "Epoch 1/3\n",
            "263/263 [==============================] - 1s 2ms/step - loss: 0.5962 - accuracy: 0.7629\n",
            "Epoch 2/3\n",
            "263/263 [==============================] - 0s 2ms/step - loss: 0.4326 - accuracy: 0.7939\n",
            "Epoch 3/3\n",
            "263/263 [==============================] - 0s 2ms/step - loss: 0.3616 - accuracy: 0.8272\n",
            "Epoch 1/2\n",
            "150/150 [==============================] - 1s 2ms/step - loss: 0.6341 - accuracy: 0.7579\n",
            "Epoch 2/2\n",
            "150/150 [==============================] - 0s 2ms/step - loss: 0.4786 - accuracy: 0.7916\n",
            "Epoch 1/2\n",
            "150/150 [==============================] - 1s 2ms/step - loss: 0.6272 - accuracy: 0.7636\n",
            "Epoch 2/2\n",
            "150/150 [==============================] - 0s 2ms/step - loss: 0.4643 - accuracy: 0.7924\n",
            "Epoch 1/2\n",
            "150/150 [==============================] - 1s 2ms/step - loss: 0.6311 - accuracy: 0.7577\n",
            "Epoch 2/2\n",
            "150/150 [==============================] - 0s 2ms/step - loss: 0.4961 - accuracy: 0.7607\n",
            "Epoch 1/2\n",
            "150/150 [==============================] - 1s 2ms/step - loss: 0.6294 - accuracy: 0.7632\n",
            "Epoch 2/2\n",
            "150/150 [==============================] - 0s 2ms/step - loss: 0.4902 - accuracy: 0.7638\n",
            "Epoch 1/3\n",
            "150/150 [==============================] - 1s 2ms/step - loss: 0.6452 - accuracy: 0.7472\n",
            "Epoch 2/3\n",
            "150/150 [==============================] - 0s 2ms/step - loss: 0.4777 - accuracy: 0.7817\n",
            "Epoch 3/3\n",
            "150/150 [==============================] - 0s 2ms/step - loss: 0.3832 - accuracy: 0.8392\n",
            "Epoch 1/3\n",
            "150/150 [==============================] - 1s 2ms/step - loss: 0.6387 - accuracy: 0.7558\n",
            "Epoch 2/3\n",
            "150/150 [==============================] - 0s 2ms/step - loss: 0.4804 - accuracy: 0.7964\n",
            "Epoch 3/3\n",
            "150/150 [==============================] - 0s 2ms/step - loss: 0.3833 - accuracy: 0.8375\n",
            "Epoch 1/3\n",
            "150/150 [==============================] - 1s 2ms/step - loss: 0.6444 - accuracy: 0.7527\n",
            "Epoch 2/3\n",
            "150/150 [==============================] - 0s 1ms/step - loss: 0.5196 - accuracy: 0.7840\n",
            "Epoch 3/3\n",
            "150/150 [==============================] - 0s 2ms/step - loss: 0.4208 - accuracy: 0.8062\n",
            "Epoch 1/3\n",
            "150/150 [==============================] - 1s 2ms/step - loss: 0.6366 - accuracy: 0.7590\n",
            "Epoch 2/3\n",
            "150/150 [==============================] - 0s 2ms/step - loss: 0.5072 - accuracy: 0.7640\n",
            "Epoch 3/3\n",
            "150/150 [==============================] - 0s 2ms/step - loss: 0.4255 - accuracy: 0.7949\n",
            "Epoch 1/2\n",
            "525/525 [==============================] - 1s 2ms/step - loss: 0.4997 - accuracy: 0.7824\n",
            "Epoch 2/2\n",
            "525/525 [==============================] - 1s 2ms/step - loss: 0.3225 - accuracy: 0.8242\n"
          ]
        }
      ]
    },
    {
      "cell_type": "code",
      "source": [
        "best_param = grid_search.best_params_\n",
        "best_accuracy = grid_search.best_score_"
      ],
      "metadata": {
        "id": "8NqA3Rv5iog8"
      },
      "execution_count": 38,
      "outputs": []
    },
    {
      "cell_type": "code",
      "source": [
        "best_param"
      ],
      "metadata": {
        "colab": {
          "base_uri": "https://localhost:8080/"
        },
        "id": "35HlSCGNis0N",
        "outputId": "06bef1a9-4e18-4ef5-d73b-bfe95b8b5de3"
      },
      "execution_count": 39,
      "outputs": [
        {
          "output_type": "execute_result",
          "data": {
            "text/plain": [
              "{'batch_size': 20, 'epochs': 2, 'optimizer': 'adam'}"
            ]
          },
          "metadata": {},
          "execution_count": 39
        }
      ]
    },
    {
      "cell_type": "code",
      "source": [
        "best_accuracy"
      ],
      "metadata": {
        "colab": {
          "base_uri": "https://localhost:8080/"
        },
        "id": "Cc1w_yTDiw9u",
        "outputId": "69596e5b-31f7-4987-bd41-6e492df8f0b7"
      },
      "execution_count": 40,
      "outputs": [
        {
          "output_type": "execute_result",
          "data": {
            "text/plain": [
              "0.8587471536528499"
            ]
          },
          "metadata": {},
          "execution_count": 40
        }
      ]
    },
    {
      "cell_type": "markdown",
      "source": [
        ""
      ],
      "metadata": {
        "id": "khN2qGkFi7zF"
      }
    }
  ]
}