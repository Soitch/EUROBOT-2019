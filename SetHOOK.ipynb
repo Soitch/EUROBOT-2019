{
  "nbformat": 4,
  "nbformat_minor": 0,
  "metadata": {
    "colab": {
      "name": "SetHOOK.ipynb",
      "provenance": [],
      "collapsed_sections": [],
      "authorship_tag": "ABX9TyOT3agufr2qRQMzjrUKzDND",
      "include_colab_link": true
    },
    "kernelspec": {
      "name": "python3",
      "display_name": "Python 3"
    },
    "language_info": {
      "name": "python"
    }
  },
  "cells": [
    {
      "cell_type": "markdown",
      "metadata": {
        "id": "view-in-github",
        "colab_type": "text"
      },
      "source": [
        "<a href=\"https://colab.research.google.com/github/Soitch/EUROBOT-2019/blob/master/SetHOOK.ipynb\" target=\"_parent\"><img src=\"https://colab.research.google.com/assets/colab-badge.svg\" alt=\"Open In Colab\"/></a>"
      ]
    },
    {
      "cell_type": "code",
      "metadata": {
        "id": "7XHSNmpVwI_g"
      },
      "source": [
        "!pip install pyTelegramBotAPI"
      ],
      "execution_count": null,
      "outputs": []
    },
    {
      "cell_type": "code",
      "metadata": {
        "colab": {
          "base_uri": "https://localhost:8080/"
        },
        "id": "B9WlmQCRz6Rj",
        "outputId": "b3ca3f54-4a4a-4e52-fd54-132b04ec37c4"
      },
      "source": [
        "import sys\n",
        " \n",
        "j = sys.stdin.readline().strip()\n",
        "s = sys.stdin.readline().strip()\n",
        " \n",
        "result = 0\n",
        "for ch in s:\n",
        "    if ch in j:\n",
        "        result += 1\n",
        " \n",
        "print(result)"
      ],
      "execution_count": null,
      "outputs": [
        {
          "output_type": "stream",
          "name": "stdout",
          "text": [
            "0\n"
          ]
        }
      ]
    },
    {
      "cell_type": "code",
      "metadata": {
        "colab": {
          "base_uri": "https://localhost:8080/"
        },
        "id": "Yt-iyrWq0PIa",
        "outputId": "7ea28995-57b2-49af-fc86-03159fcbe300"
      },
      "source": [
        "import sys\n",
        " \n",
        "j = input().strip()\n",
        "s = input().strip()\n",
        " \n",
        "result = 0\n",
        "for ch in s:\n",
        "    if ch in j:\n",
        "        result += 1\n",
        " \n",
        "print(result)"
      ],
      "execution_count": null,
      "outputs": [
        {
          "output_type": "stream",
          "name": "stdout",
          "text": [
            "1 2\n",
            "3 4 4\n",
            "2\n"
          ]
        }
      ]
    },
    {
      "cell_type": "code",
      "metadata": {
        "id": "RMYn1ctx2Bek"
      },
      "source": [
        "j = int(input())\n",
        "dr = list()\n",
        "prim = list()\n",
        "for i in range(j):\n",
        "  dr.append(int(input()))\n",
        "s = 500\n",
        "prim.append(s)\n",
        "for j in range(1, len(dr)):\n",
        "  if dr[j] > dr[j-1]:\n",
        "    s += 500\n",
        "  else:\n",
        "    if dr[j] < dr[j-1] and s > 500:\n",
        "      s -= 500\n",
        "  prim.append(s)\n",
        "print(sum(prim))\n",
        "  \n"
      ],
      "execution_count": null,
      "outputs": []
    },
    {
      "cell_type": "code",
      "metadata": {
        "colab": {
          "base_uri": "https://localhost:8080/"
        },
        "id": "KWmA7_5ovpMD",
        "outputId": "20d1f021-7c1f-4e63-e362-3c06a2a78feb"
      },
      "source": [
        "import telebot\n",
        "\n",
        "bot = telebot.TeleBot(\"1853965399:AAGUujqTdDa8LDLndzFC4Cj5Rqyc5hQEAdo\")\n",
        "\n",
        "bot.remove_webhook()\n",
        "bot.set_webhook(\"https://functions.yandexcloud.net/d4eqj70pd9u2kspm7h2b\")"
      ],
      "execution_count": null,
      "outputs": [
        {
          "output_type": "execute_result",
          "data": {
            "text/plain": [
              "True"
            ]
          },
          "metadata": {
            "tags": []
          },
          "execution_count": 6
        }
      ]
    },
    {
      "cell_type": "code",
      "metadata": {
        "id": "FblVvsl6TEMn"
      },
      "source": [
        "def readAndTotal():\n",
        "    line = input(\"Введите число (пропустите ввод для завершения): \")\n",
        "    # Базовый случай: пользователь пропустил ввод, возвращаем 0\n",
        "    print(line)\n",
        "    if line == \"\":\n",
        "      return 0\n",
        "    else:\n",
        "      print(line)5\n",
        "      return float(line) + readAndTotal()\n",
        "\n",
        "print(readAndTotal())"
      ],
      "execution_count": null,
      "outputs": []
    },
    {
      "cell_type": "code",
      "metadata": {
        "id": "fAoxNJv3c0gK"
      },
      "source": [
        "def privet(x):  # прямой ход рекурсии. Печатаем нужное количество раз\n",
        "  if x:\n",
        "    print('hello world')\n",
        "    privet(x-1)\n",
        "  else:\n",
        "    return\n",
        "\n",
        "privet(18)"
      ],
      "execution_count": null,
      "outputs": []
    },
    {
      "cell_type": "code",
      "metadata": {
        "id": "qUn9XTM9d39P"
      },
      "source": [
        "def wordrec(x):  # прямой ход рекурсии переворачиваем слово\n",
        "  y=list(x)\n",
        "  if len(y):\n",
        "    print(y.pop(-1))\n",
        "    wordrec(y)\n",
        "  else:\n",
        "    return\n",
        "\n",
        "wordrec(\"hello\")"
      ],
      "execution_count": null,
      "outputs": []
    },
    {
      "cell_type": "code",
      "metadata": {
        "colab": {
          "base_uri": "https://localhost:8080/"
        },
        "id": "uPMJ-k4Siiui",
        "outputId": "babf8659-5ee6-4f02-e58e-72ab4178766f"
      },
      "source": [
        "def sumf(x): # факториал\n",
        "  if x:\n",
        "    return x * sumf(x-1)\n",
        "  else:\n",
        "    return 1\n",
        "\n",
        "sumf(13)"
      ],
      "execution_count": null,
      "outputs": [
        {
          "output_type": "execute_result",
          "data": {
            "text/plain": [
              "6227020800"
            ]
          },
          "metadata": {},
          "execution_count": 27
        }
      ]
    },
    {
      "cell_type": "code",
      "metadata": {
        "id": "mj2K2tcxwwGd"
      },
      "source": [
        "def xanoy_tower(count, frome, to):\n",
        "  if count == 1:\n",
        "    print(f'переложить диск 1 с {frome} на {to}')\n",
        "  else:\n",
        "    tmp = 6 - frome - to\n",
        "    xanoy_tower((count-1), frome, tmp)\n",
        "    print(f'переложить диск {count} с {frome} на {to}')\n",
        "    xanoy_tower((count-1), tmp, to)\n",
        "\n",
        "\n",
        "xanoy_tower(6, 1, 2)"
      ],
      "execution_count": null,
      "outputs": []
    },
    {
      "cell_type": "code",
      "source": [
        "!pip install yfinance"
      ],
      "metadata": {
        "id": "04VI3QLNBQRe"
      },
      "execution_count": null,
      "outputs": []
    },
    {
      "cell_type": "code",
      "source": [
        "import yfinance as yf\n",
        "import pandas as pd\n",
        "import pandas_datareader.data as web\n",
        "import plotly.graph_objects as go\n",
        "from datetime import datetime\n",
        "\n",
        "pfe = yf.Ticker('SBER.ME')\n",
        "#pfe.info"
      ],
      "metadata": {
        "id": "O8tzLPE8BegS"
      },
      "execution_count": 85,
      "outputs": []
    },
    {
      "cell_type": "code",
      "source": [
        "pfe.actions"
      ],
      "metadata": {
        "id": "-AAdY5K8Ben7"
      },
      "execution_count": null,
      "outputs": []
    },
    {
      "cell_type": "code",
      "source": [
        "hist = pfe.history(period='1y', interval='1h')\n"
      ],
      "metadata": {
        "id": "fEMEilVuBevI"
      },
      "execution_count": 137,
      "outputs": []
    },
    {
      "cell_type": "code",
      "source": [
        "type(hist)\n",
        "hist.info()\n"
      ],
      "metadata": {
        "id": "S61h2sohFPP6"
      },
      "execution_count": null,
      "outputs": []
    },
    {
      "cell_type": "code",
      "source": [
        "hist.to_csv('h.csv')"
      ],
      "metadata": {
        "id": "ix8LXeu-kwOZ"
      },
      "execution_count": 147,
      "outputs": []
    },
    {
      "cell_type": "code",
      "source": [
        "hist.head()\n"
      ],
      "metadata": {
        "colab": {
          "base_uri": "https://localhost:8080/",
          "height": 355
        },
        "id": "9AxyB7iDlp36",
        "outputId": "b1f62ab4-81c8-4204-843d-c616940069fe"
      },
      "execution_count": 148,
      "outputs": [
        {
          "output_type": "execute_result",
          "data": {
            "text/plain": [
              "                                 Open        High         Low       Close  \\\n",
              "2021-03-29 16:30:00+03:00  293.299988  293.440002  291.880005  292.339996   \n",
              "2021-03-29 17:30:00+03:00  292.339996  293.239990  292.010010  292.429993   \n",
              "2021-03-29 18:30:00+03:00  292.429993  293.000000  292.410004  293.000000   \n",
              "2021-03-30 09:30:00+03:00  294.859985  295.720001  292.799988  295.299988   \n",
              "2021-03-30 10:30:00+03:00  295.260010  295.600006  292.559998  293.329987   \n",
              "\n",
              "                             Volume  Dividends  Stock Splits  \n",
              "2021-03-29 16:30:00+03:00  35639080        0.0             0  \n",
              "2021-03-29 17:30:00+03:00   6725420        0.0             0  \n",
              "2021-03-29 18:30:00+03:00   1604190        0.0             0  \n",
              "2021-03-30 09:30:00+03:00  17259820        0.0             0  \n",
              "2021-03-30 10:30:00+03:00  15307000        0.0             0  "
            ],
            "text/html": [
              "\n",
              "  <div id=\"df-11a01e91-f039-4759-b424-a2a7554eecfd\">\n",
              "    <div class=\"colab-df-container\">\n",
              "      <div>\n",
              "<style scoped>\n",
              "    .dataframe tbody tr th:only-of-type {\n",
              "        vertical-align: middle;\n",
              "    }\n",
              "\n",
              "    .dataframe tbody tr th {\n",
              "        vertical-align: top;\n",
              "    }\n",
              "\n",
              "    .dataframe thead th {\n",
              "        text-align: right;\n",
              "    }\n",
              "</style>\n",
              "<table border=\"1\" class=\"dataframe\">\n",
              "  <thead>\n",
              "    <tr style=\"text-align: right;\">\n",
              "      <th></th>\n",
              "      <th>Open</th>\n",
              "      <th>High</th>\n",
              "      <th>Low</th>\n",
              "      <th>Close</th>\n",
              "      <th>Volume</th>\n",
              "      <th>Dividends</th>\n",
              "      <th>Stock Splits</th>\n",
              "    </tr>\n",
              "  </thead>\n",
              "  <tbody>\n",
              "    <tr>\n",
              "      <th>2021-03-29 16:30:00+03:00</th>\n",
              "      <td>293.299988</td>\n",
              "      <td>293.440002</td>\n",
              "      <td>291.880005</td>\n",
              "      <td>292.339996</td>\n",
              "      <td>35639080</td>\n",
              "      <td>0.0</td>\n",
              "      <td>0</td>\n",
              "    </tr>\n",
              "    <tr>\n",
              "      <th>2021-03-29 17:30:00+03:00</th>\n",
              "      <td>292.339996</td>\n",
              "      <td>293.239990</td>\n",
              "      <td>292.010010</td>\n",
              "      <td>292.429993</td>\n",
              "      <td>6725420</td>\n",
              "      <td>0.0</td>\n",
              "      <td>0</td>\n",
              "    </tr>\n",
              "    <tr>\n",
              "      <th>2021-03-29 18:30:00+03:00</th>\n",
              "      <td>292.429993</td>\n",
              "      <td>293.000000</td>\n",
              "      <td>292.410004</td>\n",
              "      <td>293.000000</td>\n",
              "      <td>1604190</td>\n",
              "      <td>0.0</td>\n",
              "      <td>0</td>\n",
              "    </tr>\n",
              "    <tr>\n",
              "      <th>2021-03-30 09:30:00+03:00</th>\n",
              "      <td>294.859985</td>\n",
              "      <td>295.720001</td>\n",
              "      <td>292.799988</td>\n",
              "      <td>295.299988</td>\n",
              "      <td>17259820</td>\n",
              "      <td>0.0</td>\n",
              "      <td>0</td>\n",
              "    </tr>\n",
              "    <tr>\n",
              "      <th>2021-03-30 10:30:00+03:00</th>\n",
              "      <td>295.260010</td>\n",
              "      <td>295.600006</td>\n",
              "      <td>292.559998</td>\n",
              "      <td>293.329987</td>\n",
              "      <td>15307000</td>\n",
              "      <td>0.0</td>\n",
              "      <td>0</td>\n",
              "    </tr>\n",
              "  </tbody>\n",
              "</table>\n",
              "</div>\n",
              "      <button class=\"colab-df-convert\" onclick=\"convertToInteractive('df-11a01e91-f039-4759-b424-a2a7554eecfd')\"\n",
              "              title=\"Convert this dataframe to an interactive table.\"\n",
              "              style=\"display:none;\">\n",
              "        \n",
              "  <svg xmlns=\"http://www.w3.org/2000/svg\" height=\"24px\"viewBox=\"0 0 24 24\"\n",
              "       width=\"24px\">\n",
              "    <path d=\"M0 0h24v24H0V0z\" fill=\"none\"/>\n",
              "    <path d=\"M18.56 5.44l.94 2.06.94-2.06 2.06-.94-2.06-.94-.94-2.06-.94 2.06-2.06.94zm-11 1L8.5 8.5l.94-2.06 2.06-.94-2.06-.94L8.5 2.5l-.94 2.06-2.06.94zm10 10l.94 2.06.94-2.06 2.06-.94-2.06-.94-.94-2.06-.94 2.06-2.06.94z\"/><path d=\"M17.41 7.96l-1.37-1.37c-.4-.4-.92-.59-1.43-.59-.52 0-1.04.2-1.43.59L10.3 9.45l-7.72 7.72c-.78.78-.78 2.05 0 2.83L4 21.41c.39.39.9.59 1.41.59.51 0 1.02-.2 1.41-.59l7.78-7.78 2.81-2.81c.8-.78.8-2.07 0-2.86zM5.41 20L4 18.59l7.72-7.72 1.47 1.35L5.41 20z\"/>\n",
              "  </svg>\n",
              "      </button>\n",
              "      \n",
              "  <style>\n",
              "    .colab-df-container {\n",
              "      display:flex;\n",
              "      flex-wrap:wrap;\n",
              "      gap: 12px;\n",
              "    }\n",
              "\n",
              "    .colab-df-convert {\n",
              "      background-color: #E8F0FE;\n",
              "      border: none;\n",
              "      border-radius: 50%;\n",
              "      cursor: pointer;\n",
              "      display: none;\n",
              "      fill: #1967D2;\n",
              "      height: 32px;\n",
              "      padding: 0 0 0 0;\n",
              "      width: 32px;\n",
              "    }\n",
              "\n",
              "    .colab-df-convert:hover {\n",
              "      background-color: #E2EBFA;\n",
              "      box-shadow: 0px 1px 2px rgba(60, 64, 67, 0.3), 0px 1px 3px 1px rgba(60, 64, 67, 0.15);\n",
              "      fill: #174EA6;\n",
              "    }\n",
              "\n",
              "    [theme=dark] .colab-df-convert {\n",
              "      background-color: #3B4455;\n",
              "      fill: #D2E3FC;\n",
              "    }\n",
              "\n",
              "    [theme=dark] .colab-df-convert:hover {\n",
              "      background-color: #434B5C;\n",
              "      box-shadow: 0px 1px 3px 1px rgba(0, 0, 0, 0.15);\n",
              "      filter: drop-shadow(0px 1px 2px rgba(0, 0, 0, 0.3));\n",
              "      fill: #FFFFFF;\n",
              "    }\n",
              "  </style>\n",
              "\n",
              "      <script>\n",
              "        const buttonEl =\n",
              "          document.querySelector('#df-11a01e91-f039-4759-b424-a2a7554eecfd button.colab-df-convert');\n",
              "        buttonEl.style.display =\n",
              "          google.colab.kernel.accessAllowed ? 'block' : 'none';\n",
              "\n",
              "        async function convertToInteractive(key) {\n",
              "          const element = document.querySelector('#df-11a01e91-f039-4759-b424-a2a7554eecfd');\n",
              "          const dataTable =\n",
              "            await google.colab.kernel.invokeFunction('convertToInteractive',\n",
              "                                                     [key], {});\n",
              "          if (!dataTable) return;\n",
              "\n",
              "          const docLinkHtml = 'Like what you see? Visit the ' +\n",
              "            '<a target=\"_blank\" href=https://colab.research.google.com/notebooks/data_table.ipynb>data table notebook</a>'\n",
              "            + ' to learn more about interactive tables.';\n",
              "          element.innerHTML = '';\n",
              "          dataTable['output_type'] = 'display_data';\n",
              "          await google.colab.output.renderOutput(dataTable, element);\n",
              "          const docLink = document.createElement('div');\n",
              "          docLink.innerHTML = docLinkHtml;\n",
              "          element.appendChild(docLink);\n",
              "        }\n",
              "      </script>\n",
              "    </div>\n",
              "  </div>\n",
              "  "
            ]
          },
          "metadata": {},
          "execution_count": 148
        }
      ]
    },
    {
      "cell_type": "code",
      "source": [
        "\n",
        "new_data = pd.read_csv('h.csv' )\n",
        "new_data.rename(columns = {'Unnamed: 0' : 'Datetime'}, inplace = True)"
      ],
      "metadata": {
        "id": "klWzEpYXpsXA"
      },
      "execution_count": 170,
      "outputs": []
    },
    {
      "cell_type": "code",
      "source": [
        "new_data['Datetime'] = pd.to_datetime(new_data[0]).dt.tz_localize(None)\n"
      ],
      "metadata": {
        "id": "CyhoXBVZ-QZ0"
      },
      "execution_count": null,
      "outputs": []
    },
    {
      "cell_type": "code",
      "source": [
        "import matplotlib.pyplot as plt\n",
        "tickers = ['SBER.ME']\n",
        "for i,ticker in enumerate(tickers):\n",
        "  current_ticker = yf.Ticker(ticker)\n",
        "  plt.subplot(len(tickers),1,i+1)\n",
        "  current_ticker.history(period='1w', interval='1H')['Close'].plot(figsize=   (16,7), title='1 week price history for ticker: '+ticker)"
      ],
      "metadata": {
        "id": "nmg3QNiOyH7d"
      },
      "execution_count": null,
      "outputs": []
    },
    {
      "cell_type": "code",
      "source": [
        "fig = go.Figure(data=[go.Candlestick(x=new_data['Datetime'],\n",
        "                open=new_data['Open'],\n",
        "                high=new_data['High'],\n",
        "                low=new_data['Low'],\n",
        "                close=new_data['Close'])])\n",
        "fig.show()"
      ],
      "metadata": {
        "id": "xznb5aBA5FTB"
      },
      "execution_count": null,
      "outputs": []
    },
    {
      "cell_type": "code",
      "source": [
        "new_data.head(30)"
      ],
      "metadata": {
        "id": "atIjX53AthWJ"
      },
      "execution_count": null,
      "outputs": []
    }
  ]
}