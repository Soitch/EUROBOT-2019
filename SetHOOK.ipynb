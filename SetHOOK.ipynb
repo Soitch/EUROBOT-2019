{
  "nbformat": 4,
  "nbformat_minor": 0,
  "metadata": {
    "colab": {
      "name": "SetHOOK.ipynb",
      "provenance": [],
      "collapsed_sections": [],
      "authorship_tag": "ABX9TyOvsSjuSfha5OzckvBv7GHU",
      "include_colab_link": true
    },
    "kernelspec": {
      "name": "python3",
      "display_name": "Python 3"
    },
    "language_info": {
      "name": "python"
    }
  },
  "cells": [
    {
      "cell_type": "markdown",
      "metadata": {
        "id": "view-in-github",
        "colab_type": "text"
      },
      "source": [
        "<a href=\"https://colab.research.google.com/github/Soitch/EUROBOT-2019/blob/master/SetHOOK.ipynb\" target=\"_parent\"><img src=\"https://colab.research.google.com/assets/colab-badge.svg\" alt=\"Open In Colab\"/></a>"
      ]
    },
    {
      "cell_type": "code",
      "metadata": {
        "id": "7XHSNmpVwI_g"
      },
      "source": [
        "!pip install pyTelegramBotAPI"
      ],
      "execution_count": null,
      "outputs": []
    },
    {
      "cell_type": "code",
      "metadata": {
        "colab": {
          "base_uri": "https://localhost:8080/"
        },
        "id": "B9WlmQCRz6Rj",
        "outputId": "b3ca3f54-4a4a-4e52-fd54-132b04ec37c4"
      },
      "source": [
        "import sys\n",
        " \n",
        "j = sys.stdin.readline().strip()\n",
        "s = sys.stdin.readline().strip()\n",
        " \n",
        "result = 0\n",
        "for ch in s:\n",
        "    if ch in j:\n",
        "        result += 1\n",
        " \n",
        "print(result)"
      ],
      "execution_count": null,
      "outputs": [
        {
          "output_type": "stream",
          "name": "stdout",
          "text": [
            "0\n"
          ]
        }
      ]
    },
    {
      "cell_type": "code",
      "metadata": {
        "colab": {
          "base_uri": "https://localhost:8080/"
        },
        "id": "Yt-iyrWq0PIa",
        "outputId": "7ea28995-57b2-49af-fc86-03159fcbe300"
      },
      "source": [
        "import sys\n",
        " \n",
        "j = input().strip()\n",
        "s = input().strip()\n",
        " \n",
        "result = 0\n",
        "for ch in s:\n",
        "    if ch in j:\n",
        "        result += 1\n",
        " \n",
        "print(result)"
      ],
      "execution_count": null,
      "outputs": [
        {
          "output_type": "stream",
          "name": "stdout",
          "text": [
            "1 2\n",
            "3 4 4\n",
            "2\n"
          ]
        }
      ]
    },
    {
      "cell_type": "code",
      "metadata": {
        "id": "RMYn1ctx2Bek"
      },
      "source": [
        "j = int(input())\n",
        "dr = list()\n",
        "prim = list()\n",
        "for i in range(j):\n",
        "  dr.append(int(input()))\n",
        "s = 500\n",
        "prim.append(s)\n",
        "for j in range(1, len(dr)):\n",
        "  if dr[j] > dr[j-1]:\n",
        "    s += 500\n",
        "  else:\n",
        "    if dr[j] < dr[j-1] and s > 500:\n",
        "      s -= 500\n",
        "  prim.append(s)\n",
        "print(sum(prim))\n",
        "  \n"
      ],
      "execution_count": null,
      "outputs": []
    },
    {
      "cell_type": "code",
      "metadata": {
        "colab": {
          "base_uri": "https://localhost:8080/"
        },
        "id": "KWmA7_5ovpMD",
        "outputId": "20d1f021-7c1f-4e63-e362-3c06a2a78feb"
      },
      "source": [
        "import telebot\n",
        "\n",
        "bot = telebot.TeleBot(\"1853965399:AAGUujqTdDa8LDLndzFC4Cj5Rqyc5hQEAdo\")\n",
        "\n",
        "bot.remove_webhook()\n",
        "bot.set_webhook(\"https://functions.yandexcloud.net/d4eqj70pd9u2kspm7h2b\")"
      ],
      "execution_count": null,
      "outputs": [
        {
          "output_type": "execute_result",
          "data": {
            "text/plain": [
              "True"
            ]
          },
          "metadata": {
            "tags": []
          },
          "execution_count": 6
        }
      ]
    },
    {
      "cell_type": "code",
      "metadata": {
        "id": "FblVvsl6TEMn"
      },
      "source": [
        "def readAndTotal():\n",
        "    line = input(\"Введите число (пропустите ввод для завершения): \")\n",
        "    # Базовый случай: пользователь пропустил ввод, возвращаем 0\n",
        "    print(line)\n",
        "    if line == \"\":\n",
        "      return 0\n",
        "    else:\n",
        "      print(line)5\n",
        "      return float(line) + readAndTotal()\n",
        "\n",
        "print(readAndTotal())"
      ],
      "execution_count": null,
      "outputs": []
    },
    {
      "cell_type": "code",
      "metadata": {
        "id": "fAoxNJv3c0gK"
      },
      "source": [
        "def privet(x):  # прямой ход рекурсии. Печатаем нужное количество раз\n",
        "  if x:\n",
        "    print('hello world')\n",
        "    privet(x-1)\n",
        "  else:\n",
        "    return\n",
        "\n",
        "privet(18)"
      ],
      "execution_count": null,
      "outputs": []
    },
    {
      "cell_type": "code",
      "metadata": {
        "id": "qUn9XTM9d39P"
      },
      "source": [
        "def wordrec(x):  # прямой ход рекурсии переворачиваем слово\n",
        "  y=list(x)\n",
        "  if len(y):\n",
        "    print(y.pop(-1))\n",
        "    wordrec(y)\n",
        "  else:\n",
        "    return\n",
        "\n",
        "wordrec(\"hello\")"
      ],
      "execution_count": null,
      "outputs": []
    },
    {
      "cell_type": "code",
      "metadata": {
        "colab": {
          "base_uri": "https://localhost:8080/"
        },
        "id": "uPMJ-k4Siiui",
        "outputId": "babf8659-5ee6-4f02-e58e-72ab4178766f"
      },
      "source": [
        "def sumf(x): # факториал\n",
        "  if x:\n",
        "    return x * sumf(x-1)\n",
        "  else:\n",
        "    return 1\n",
        "\n",
        "sumf(13)"
      ],
      "execution_count": null,
      "outputs": [
        {
          "output_type": "execute_result",
          "data": {
            "text/plain": [
              "6227020800"
            ]
          },
          "metadata": {},
          "execution_count": 27
        }
      ]
    },
    {
      "cell_type": "code",
      "metadata": {
        "id": "mj2K2tcxwwGd"
      },
      "source": [
        "def xanoy_tower(count, frome, to):\n",
        "  if count == 1:\n",
        "    print(f'переложить диск 1 с {frome} на {to}')\n",
        "  else:\n",
        "    tmp = 6 - frome - to\n",
        "    xanoy_tower((count-1), frome, tmp)\n",
        "    print(f'переложить диск {count} с {frome} на {to}')\n",
        "    xanoy_tower((count-1), tmp, to)\n",
        "\n",
        "\n",
        "xanoy_tower(6, 1, 2)"
      ],
      "execution_count": null,
      "outputs": []
    },
    {
      "cell_type": "code",
      "source": [
        "!pip install yfinance"
      ],
      "metadata": {
        "id": "04VI3QLNBQRe"
      },
      "execution_count": null,
      "outputs": []
    },
    {
      "cell_type": "code",
      "source": [
        "import yfinance as yf\n",
        "import pandas as pd\n",
        "import pandas_datareader.data as web\n",
        "import plotly.graph_objects as go\n",
        "from datetime import datetime\n",
        "\n",
        "pfe = yf.Ticker('SBER.ME')\n",
        "#pfe.info"
      ],
      "metadata": {
        "id": "O8tzLPE8BegS"
      },
      "execution_count": 85,
      "outputs": []
    },
    {
      "cell_type": "code",
      "source": [
        "pfe.actions"
      ],
      "metadata": {
        "id": "-AAdY5K8Ben7"
      },
      "execution_count": null,
      "outputs": []
    },
    {
      "cell_type": "code",
      "source": [
        "hist = pfe.history(period='1y', interval='1h')\n"
      ],
      "metadata": {
        "id": "fEMEilVuBevI"
      },
      "execution_count": 172,
      "outputs": []
    },
    {
      "cell_type": "code",
      "source": [
        "type(hist)\n",
        "hist.info()\n"
      ],
      "metadata": {
        "id": "S61h2sohFPP6"
      },
      "execution_count": null,
      "outputs": []
    },
    {
      "cell_type": "code",
      "source": [
        "hist.to_csv('h.csv')"
      ],
      "metadata": {
        "id": "ix8LXeu-kwOZ"
      },
      "execution_count": 174,
      "outputs": []
    },
    {
      "cell_type": "code",
      "source": [
        "hist.head()\n"
      ],
      "metadata": {
        "id": "9AxyB7iDlp36"
      },
      "execution_count": null,
      "outputs": []
    },
    {
      "cell_type": "code",
      "source": [
        "\n",
        "new_data = pd.read_csv('h.csv' )\n",
        "new_data.rename(columns = {'Unnamed: 0' : 'Datetime'}, inplace = True)"
      ],
      "metadata": {
        "id": "klWzEpYXpsXA"
      },
      "execution_count": 175,
      "outputs": []
    },
    {
      "cell_type": "code",
      "source": [
        "new_data"
      ],
      "metadata": {
        "id": "913qbtrBOgte"
      },
      "execution_count": null,
      "outputs": []
    },
    {
      "cell_type": "code",
      "source": [
        "new_data['Datetime'] = pd.to_datetime(new_data['Datetime']).dt.tz_localize(None)\n"
      ],
      "metadata": {
        "id": "CyhoXBVZ-QZ0"
      },
      "execution_count": 180,
      "outputs": []
    },
    {
      "cell_type": "code",
      "source": [
        "import matplotlib.pyplot as plt\n",
        "tickers = ['SBER.ME']\n",
        "for i,ticker in enumerate(tickers):\n",
        "  current_ticker = yf.Ticker(ticker)\n",
        "  plt.subplot(len(tickers),1,i+1)\n",
        "  current_ticker.history(period='1w', interval='1H')['Close'].plot(figsize=   (16,7), title='1 week price history for ticker: '+ticker)"
      ],
      "metadata": {
        "id": "nmg3QNiOyH7d"
      },
      "execution_count": null,
      "outputs": []
    },
    {
      "cell_type": "code",
      "source": [
        "fig = go.Figure(data=[go.Candlestick(x=new_data['Datetime'],\n",
        "                open=new_data['Open'],\n",
        "                high=new_data['High'],\n",
        "                low=new_data['Low'],\n",
        "                close=new_data['Close'])])\n",
        "fig.show()"
      ],
      "metadata": {
        "id": "xznb5aBA5FTB"
      },
      "execution_count": null,
      "outputs": []
    },
    {
      "cell_type": "code",
      "source": [
        "new_data.head(30)"
      ],
      "metadata": {
        "id": "atIjX53AthWJ"
      },
      "execution_count": null,
      "outputs": []
    }
  ]
}