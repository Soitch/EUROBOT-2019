{
  "nbformat": 4,
  "nbformat_minor": 0,
  "metadata": {
    "colab": {
      "name": "OneString.ipynb",
      "provenance": [],
      "collapsed_sections": [],
      "authorship_tag": "ABX9TyO/fF5ZPuavN93onGxc39JX",
      "include_colab_link": true
    },
    "kernelspec": {
      "name": "python3",
      "display_name": "Python 3"
    },
    "language_info": {
      "name": "python"
    }
  },
  "cells": [
    {
      "cell_type": "markdown",
      "metadata": {
        "id": "view-in-github",
        "colab_type": "text"
      },
      "source": [
        "<a href=\"https://colab.research.google.com/github/Soitch/EUROBOT-2019/blob/master/OneString.ipynb\" target=\"_parent\"><img src=\"https://colab.research.google.com/assets/colab-badge.svg\" alt=\"Open In Colab\"/></a>"
      ]
    },
    {
      "cell_type": "markdown",
      "source": [
        "# PYTHON однострочники (примеры)"
      ],
      "metadata": {
        "id": "SCj1dKo4KTm9"
      }
    },
    {
      "cell_type": "markdown",
      "source": [
        "\n",
        "Читаем книгу про однострочники и выполняем задания\n"
      ],
      "metadata": {
        "id": "zBiqx_h0PIQD"
      }
    },
    {
      "cell_type": "code",
      "source": [
        "import numpy as np\n",
        "import matplotlib.pyplot as plt\n",
        "from sklearn.linear_model import LinearRegression\n",
        "from sklearn.linear_model import LogisticRegression"
      ],
      "metadata": {
        "id": "gN6hAGOXKRND"
      },
      "execution_count": null,
      "outputs": []
    },
    {
      "cell_type": "code",
      "source": [
        "#Списковое включение — популярная возможность Python, с помощью которой можно быстро создавать и модифицировать списки. \n",
        "#Оно описывается простой формулой [выражение + контекст]:"
      ],
      "metadata": {
        "id": "MDX11M84EqdD"
      },
      "execution_count": null,
      "outputs": []
    },
    {
      "cell_type": "code",
      "source": [
        "## Данные\n",
        "text = '''\n",
        "Call me Ishmael. Some years ago - never mind how long precisely - having\n",
        "little or no money in my purse, and nothing particular to interest me\n",
        "on shore, I thought I would sail about a little and see the watery part\n",
        "of the world. It is a way I have of driving off the spleen, and regulating\n",
        "the circulation. - Moby Dick'''\n",
        "## Однострочник\n",
        "w = [ [x for x in line.split() if len(x)>3] for line in text.split('\\n')]\n",
        "## Результат\n",
        "print(w)"
      ],
      "metadata": {
        "colab": {
          "base_uri": "https://localhost:8080/"
        },
        "id": "wtwD8A5nxIOk",
        "outputId": "8a309b53-58e1-49d5-d588-e220ede88d03"
      },
      "execution_count": null,
      "outputs": [
        {
          "output_type": "stream",
          "name": "stdout",
          "text": [
            "[[], ['Call', 'Ishmael.', 'Some', 'years', 'never', 'mind', 'long', 'precisely', 'having'], ['little', 'money', 'purse,', 'nothing', 'particular', 'interest'], ['shore,', 'thought', 'would', 'sail', 'about', 'little', 'watery', 'part'], ['world.', 'have', 'driving', 'spleen,', 'regulating'], ['circulation.', 'Moby', 'Dick']]\n"
          ]
        }
      ]
    },
    {
      "cell_type": "code",
      "source": [
        "[line.strip() for line in open(\"GAZP.txt\")]"
      ],
      "metadata": {
        "colab": {
          "base_uri": "https://localhost:8080/"
        },
        "id": "B436dBFP2j5D",
        "outputId": "01f788a8-a68a-4947-bd7b-57e06c52ebb2"
      },
      "execution_count": null,
      "outputs": [
        {
          "output_type": "execute_result",
          "data": {
            "text/plain": [
              "['<TICKER>,<PER>,<DATE>,<TIME>,<OPEN>,<HIGH>,<LOW>,<CLOSE>,<VOL>',\n",
              " 'GAZP,60,20220329,110000,220.0000000,226.0000000,216.5000000,222.0000000,12128860',\n",
              " 'GAZP,60,20220329,120000,222.0200000,223.0000000,219.6400000,220.0100000,3155180']"
            ]
          },
          "metadata": {},
          "execution_count": 21
        }
      ]
    },
    {
      "cell_type": "code",
      "source": [
        "## Данные\n",
        "txt = ['lambda functions are anonymous functions.',\n",
        "'anonymous functions dont have a name.',\n",
        "'functions are objects in Python.']\n",
        "## Однострочник\n",
        "mark = map(lambda s: (True, s) if 'anonymous' in s else (False, s), txt)\n",
        "## Результаты\n",
        "print(list(mark))"
      ],
      "metadata": {
        "colab": {
          "base_uri": "https://localhost:8080/"
        },
        "id": "voN8VQc44tKQ",
        "outputId": "fe1b445c-952a-4a8b-89c8-160a26109b4d"
      },
      "execution_count": null,
      "outputs": [
        {
          "output_type": "stream",
          "name": "stdout",
          "text": [
            "[(True, 'lambda functions are anonymous functions.'), (True, 'anonymous functions dont have a name.'), (False, 'functions are objects in Python.')]\n"
          ]
        }
      ]
    },
    {
      "cell_type": "code",
      "source": [
        "## Данные\n",
        "letters_amazon = '''\n",
        "We spent several years building our own database engine,\n",
        "Amazon Aurora, a fully-managed MySQL and PostgreSQL-compatible\n",
        "service with the same or better durability and availability as\n",
        "the commercial engines, but at one-tenth of the cost. We were\n",
        "not surprised when this worked.\n",
        "'''\n",
        "## Однострочник\n",
        "find = lambda x, q: x[x.find(q)-18:x.find(q)+18] if q in x else -1\n",
        "## Результат\n",
        "print(find(letters_amazon, 'SQL'))"
      ],
      "metadata": {
        "colab": {
          "base_uri": "https://localhost:8080/"
        },
        "id": "uYC3ZMtx-e4l",
        "outputId": "9f5243f2-78fd-4c01-8e0e-46a21c5fc0af"
      },
      "execution_count": null,
      "outputs": [
        {
          "output_type": "stream",
          "name": "stdout",
          "text": [
            "a fully-managed MySQL and PostgreSQL\n"
          ]
        }
      ]
    },
    {
      "cell_type": "code",
      "source": [
        "## Данные (ежедневные котировки акций ($))\n",
        "price = [[9.9, 9.8, 9.8, 9.4, 9.5, 9.7],\n",
        "[9.5, 9.4, 9.4, 9.3, 9.2, 9.1],\n",
        "[8.4, 7.9, 7.9, 8.1, 8.0, 8.0],\n",
        "[7.1, 5.9, 4.8, 4.8, 4.7, 3.9]]\n",
        "## Однострочник\n",
        "sample = [line[::2] for line in price]\n",
        "## Результат\n",
        "print(sample)"
      ],
      "metadata": {
        "colab": {
          "base_uri": "https://localhost:8080/"
        },
        "id": "UDPrBNJyEDGP",
        "outputId": "9216868e-da6a-4d8f-f7cf-72623f2d9c4f"
      },
      "execution_count": null,
      "outputs": [
        {
          "output_type": "stream",
          "name": "stdout",
          "text": [
            "[[9.9, 9.8, 9.5], [9.5, 9.4, 9.2], [8.4, 7.9, 8.0], [7.1, 4.8, 4.7]]\n"
          ]
        }
      ]
    },
    {
      "cell_type": "code",
      "source": [
        "## Данные\n",
        "visitors = ['Firefox', 'corrupted', 'Chrome', 'corrupted',\n",
        "'Safari', 'corrupted', 'Safari', 'corrupted',\n",
        "'Chrome', 'corrupted', 'Firefox', 'corrupted']\n",
        "## Однострочник\n",
        "visitors[1::2] = visitors[::2]\n",
        "## Результат\n",
        "print(visitors)"
      ],
      "metadata": {
        "colab": {
          "base_uri": "https://localhost:8080/"
        },
        "id": "CHozp0d2FSqG",
        "outputId": "0b78bf17-f2a1-4cd8-ed74-dc4e051d8df7"
      },
      "execution_count": null,
      "outputs": [
        {
          "output_type": "stream",
          "name": "stdout",
          "text": [
            "['Firefox', 'Firefox', 'Chrome', 'Chrome', 'Safari', 'Safari', 'Safari', 'Safari', 'Chrome', 'Chrome', 'Firefox', 'Firefox']\n"
          ]
        }
      ]
    },
    {
      "cell_type": "code",
      "source": [
        "## Данные\n",
        "companies = {\n",
        "'CoolCompany' : {'Alice' : 33, 'Bob' : 28, 'Frank' : 29},\n",
        "'CheapCompany' : {'Ann' : 4, 'Lee' : 9, 'Chrisi' : 7},\n",
        "'SosoCompany' : {'Esther' : 38, 'Cole' : 8, 'Paris' : 18}}\n",
        "## Однострочник\n",
        "illegal = [x for x in companies if any(y<9 for y in companies[x].values())]\n",
        "## Результат\n",
        "print(illegal)"
      ],
      "metadata": {
        "colab": {
          "base_uri": "https://localhost:8080/"
        },
        "id": "gJW5wfBAGevz",
        "outputId": "706895d7-b1dc-4549-da9f-85ccc13b07fe"
      },
      "execution_count": null,
      "outputs": [
        {
          "output_type": "stream",
          "name": "stdout",
          "text": [
            "['CheapCompany', 'SosoCompany']\n"
          ]
        }
      ]
    },
    {
      "cell_type": "code",
      "source": [
        "lst_1 = [1, 2, 3]\n",
        "lst_2 = [4, 5, 6]\n",
        "# Упаковка двух списков вместе\n",
        "zipped = list(zip(lst_1, lst_2))\n",
        "print(zipped)\n",
        "# [(1, 4), (2, 5), (3, 6)]\n",
        "# Обратная распаковка списков\n",
        "lst_1_new, lst_2_new = zip(*zipped)\n",
        "print(list(lst_1_new))\n",
        "print(list(lst_2_new))"
      ],
      "metadata": {
        "colab": {
          "base_uri": "https://localhost:8080/"
        },
        "id": "DDcbcCXvHx1d",
        "outputId": "1a9150ef-8c44-4fe2-fe5f-9e96587925de"
      },
      "execution_count": null,
      "outputs": [
        {
          "output_type": "stream",
          "name": "stdout",
          "text": [
            "[(1, 4), (2, 5), (3, 6)]\n",
            "[1, 2, 3]\n",
            "[4, 5, 6]\n"
          ]
        }
      ]
    },
    {
      "cell_type": "code",
      "source": [
        "## Данные\n",
        "column_names = ['name', 'salary', 'job']\n",
        "db_rows = [('Alice', 180000, 'data scientist'),\n",
        "('Bob', 99000, 'mid-level manager'),\n",
        "('Frank', 87000, 'CEO')]\n",
        "## Однострочник\n",
        "db = [dict(zip(column_names, row)) for row in db_rows]\n",
        "## Результат\n",
        "print(db)"
      ],
      "metadata": {
        "colab": {
          "base_uri": "https://localhost:8080/"
        },
        "id": "v8QUtgp9IRCa",
        "outputId": "5f31f215-936b-441d-cce8-34241a0687f4"
      },
      "execution_count": null,
      "outputs": [
        {
          "output_type": "stream",
          "name": "stdout",
          "text": [
            "[{'name': 'Alice', 'salary': 180000, 'job': 'data scientist'}, {'name': 'Bob', 'salary': 99000, 'job': 'mid-level manager'}, {'name': 'Frank', 'salary': 87000, 'job': 'CEO'}]\n"
          ]
        }
      ]
    },
    {
      "cell_type": "code",
      "source": [
        "a = np.array([[1, 0, 0],\n",
        "[1, 1, 1],\n",
        "[2, 0, 0]])\n",
        "print(np.max(a))\n",
        "# 2\n",
        "print(np.min(a))\n",
        "# 0\n",
        "print(np.average(a))\n",
        "# 0.6666666666666666"
      ],
      "metadata": {
        "colab": {
          "base_uri": "https://localhost:8080/"
        },
        "id": "lqos-yjFK0al",
        "outputId": "92cf802d-3300-4913-f363-320f79d70a80"
      },
      "execution_count": null,
      "outputs": [
        {
          "output_type": "stream",
          "name": "stdout",
          "text": [
            "2\n",
            "0\n",
            "0.6666666666666666\n"
          ]
        }
      ]
    },
    {
      "cell_type": "code",
      "source": [
        "## Данные: годовые зарплаты в тысячах долларов (за 2017, 2018 и 2019 гг.)\n",
        "alice = [99, 101, 103]\n",
        "bob = [110, 108, 105]\n",
        "tim = [90, 88, 85]\n",
        "salaries = np.array([alice, bob, tim])\n",
        "taxation = np.array([[0.2, 0.25, 0.22],\n",
        "[0.4, 0.5, 0.5],\n",
        "[0.1, 0.2, 0.1]])\n",
        "## Однострочник\n",
        "max_income = np.max(salaries - salaries * taxation)\n",
        "## Результат\n",
        "print(max_income)"
      ],
      "metadata": {
        "colab": {
          "base_uri": "https://localhost:8080/"
        },
        "id": "jGBwsLnOLGop",
        "outputId": "4b489994-6a74-46dd-dc46-9ddafe65b013"
      },
      "execution_count": null,
      "outputs": [
        {
          "output_type": "stream",
          "name": "stdout",
          "text": [
            "81.0\n"
          ]
        }
      ]
    },
    {
      "cell_type": "code",
      "source": [
        "a = np.array([55, 56, 57, 58, 59, 60, 61])\n",
        "print(a)\n",
        "# [55 56 57 58 59 60 61]\n",
        "print(a[:])\n",
        "# [55 56 57 58 59 60 61]\n",
        "print(a[2:])\n",
        "# [57 58 59 60 61]\n",
        "print(a[1:4])\n",
        "# [56 57 58]\n",
        "print(a[2:-2])\n",
        "# [57 58 59]\n",
        "print(a[::2])\n",
        "# [55 57 59 61]\n",
        "print(a[1::2])\n",
        "# [56 58 60]\n",
        "print(a[::-1])\n",
        "# [61 60 59 58 57 56 55]\n",
        "print(a[:1:-2])\n",
        "# [61 59 57]\n",
        "print(a[-1:1:-2])\n",
        "# [61 59 57]"
      ],
      "metadata": {
        "id": "7VbSudMmOnW3"
      },
      "execution_count": null,
      "outputs": []
    },
    {
      "cell_type": "code",
      "source": [
        "a = np.array([[0, 1, 2, 3],\n",
        "[4, 5, 6, 7],\n",
        "[8, 9, 10, 11],\n",
        "[12, 13, 14, 15]])\n",
        "print(a[:, 2])\n",
        "# Третий столбец: [ 2 6 10 14]\n",
        "print(a[1, :])\n",
        "# Вторая строка: [4 5 6 7]\n",
        "print(a[1, ::2])\n",
        "# Вторая строка, каждый второй элемент: [4 6]\n",
        "print(a[:, :-1])\n",
        "# Все столбцы, за исключением последнего:\n",
        "# [[ 0 1 2]\n",
        "# [ 4 5 6]\n",
        "# [ 8 9 10]\n",
        "# [12 13 14]]\n",
        "print(a[:-2])\n",
        "# Аналогично a[:-2, :]\n",
        "# [[ 0 1 2 3]\n",
        "# [ 4 5 6 7]]"
      ],
      "metadata": {
        "id": "XbYor5VNOv-j"
      },
      "execution_count": null,
      "outputs": []
    },
    {
      "cell_type": "code",
      "source": [
        "#Транслирование (broadcasting) означает автоматический процесс приведения двух массивов NumPy к одной форме для применения определенных поэлементных операций\n",
        "#np.array([130 137]) * np.array([1.1, 1.1])\n",
        "#Массивы NumPy — однородны (homogenous), то есть типы данных у всех значений массива одинаковы."
      ],
      "metadata": {
        "id": "j13HFvdKPMWK"
      },
      "execution_count": null,
      "outputs": []
    },
    {
      "cell_type": "code",
      "source": [
        "## Данные: годовые зарплаты в тысячах долларов (за 2025, 2026 и 2027 гг.)\n",
        "dataScientist = [130, 132, 137]\n",
        "productManager = [127, 140, 145]\n",
        "designer = [118, 118, 127]\n",
        "softwareEngineer = [129, 131, 137]\n",
        "employees = np.array([dataScientist,\n",
        "productManager,\n",
        "designer,\n",
        "softwareEngineer])\n",
        "## Однострочник\n",
        "employees[0,::2] = employees[0,::2] * 1.1\n",
        "## Результат\n",
        "print(employees)"
      ],
      "metadata": {
        "id": "rjfa4s_cPPbT"
      },
      "execution_count": null,
      "outputs": []
    },
    {
      "cell_type": "code",
      "source": [
        "## Данные: измерения индекса качества воздуха, AQI (строка = город)\n",
        "X = np.array(\n",
        "[[ 42, 40, 41, 43, 44, 43 ], # Гонконг\n",
        "[ 30, 31, 29, 29, 29, 30 ], # Нью-Йорк\n",
        "[ 8, 13, 31, 11, 11, 9 ], # Берлин\n",
        "[ 11, 11, 12, 13, 11, 12 ]]) # Монреаль\n",
        "cities = np.array([\"Hong Kong\", \"New York\", \"Berlin\", \"Montreal\"])\n",
        "## Однострочник\n",
        "polluted = set(cities[np.nonzero(X > np.average(X))[0]])\n",
        "## Результат\n",
        "print(polluted)"
      ],
      "metadata": {
        "id": "geIlKgLVRWe1"
      },
      "execution_count": null,
      "outputs": []
    },
    {
      "cell_type": "code",
      "source": [
        "## Зависимости\n",
        "import numpy as np\n",
        "## Данные: популярные учетные записи Instagram (миллионы подписчиков)\n",
        "inst = np.array([[232, \"@instagram\"],\n",
        "[133, \"@selenagomez\"],\n",
        "[59, \"@victoriassecret\"],\n",
        "[120, \"@cristiano\"],\n",
        "[111, \"@beyonce\"],\n",
        "[76, \"@nike\"]])\n",
        "## Однострочник\n",
        "superstars = inst[inst[:,0].astype(float) > 100, 1]\n",
        "## Результат\n",
        "print(superstars)"
      ],
      "metadata": {
        "colab": {
          "base_uri": "https://localhost:8080/"
        },
        "id": "RNdO2g-_cQ4s",
        "outputId": "9125a0df-f925-44a7-fabf-193ddfee63a5"
      },
      "execution_count": null,
      "outputs": [
        {
          "output_type": "stream",
          "name": "stdout",
          "text": [
            "['@instagram' '@selenagomez' '@cristiano' '@beyonce']\n"
          ]
        }
      ]
    },
    {
      "cell_type": "code",
      "source": [
        "a = np.array([4] * 16)\n",
        "print(a)\n",
        "# [4 4 4 4 4 4 4 4 4 4 4 4 4 4 4 4]\n",
        "a[1::] = [42] * 15\n",
        "print(a)\n",
        "# [ 4 42 42 42 42 42 42 42 42 42 42 42 42 42 42 42]"
      ],
      "metadata": {
        "id": "5j55xbi0gYR_"
      },
      "execution_count": null,
      "outputs": []
    },
    {
      "cell_type": "code",
      "source": [
        "## Данные\n",
        "## Данные с датчиков (Пнд, Вт, Ср, Чт, Пт, Сб, Вс)\n",
        "tmp = np.array([1, 2, 3, 4, 3, 4, 4, 5, 3, 3, 4, 3, 4, 6, 6, 5, 5, 5, 4, 5, 5])\n",
        "## Однострочник/ Выбор каждого 7 элемента/ разбиение строки на 7 столбцов\n",
        "tmp[6::7] = np.average(tmp.reshape((-1,7)), axis=1)+5\n",
        "## Результат\n",
        "print(tmp.reshape(-1,7))"
      ],
      "metadata": {
        "id": "huhHxDfIjZZU"
      },
      "execution_count": null,
      "outputs": []
    },
    {
      "cell_type": "code",
      "source": [
        "## Данные: оценки за экзамен SAT для различных абитуриентов\n",
        "sat_scores = np.array([1100, 1256, 1543, 1043, 989, 1412, 1343])\n",
        "students = np.array([\"John\", \"Bob\", \"Alice\", \"Joe\", \"Jane\", \"Frank\", \"Carl\"])\n",
        "## Однострочник\n",
        "top_3 = students[np.argsort(sat_scores)][:-4:-1]\n",
        "## Результат\n",
        "print(top_3)"
      ],
      "metadata": {
        "id": "4_JrO2rkvz9P"
      },
      "execution_count": null,
      "outputs": []
    },
    {
      "cell_type": "code",
      "source": [
        "## Данные (строка = [название, рейтинг])\n",
        "books = np.array([['Coffee Break NumPy', 4.6],\n",
        "['Lord of the Rings', 5.0],\n",
        "['Harry Potter', 4.3],\n",
        "['Winnie-the-Pooh', 3.9],\n",
        "['The Clown of God', 2.2],\n",
        "['Coffee Break Python', 4.7]])\n",
        "## Однострочник\n",
        "predict_bestseller = lambda x, y : x[x[:,1].astype(float) > y]\n",
        "## Результат\n",
        "print(predict_bestseller(books, 3.9))"
      ],
      "metadata": {
        "colab": {
          "base_uri": "https://localhost:8080/"
        },
        "id": "mK_WfAQjxaTT",
        "outputId": "b23285b2-40cf-4b1c-edf0-a711d9199c55"
      },
      "execution_count": null,
      "outputs": [
        {
          "output_type": "stream",
          "name": "stdout",
          "text": [
            "[['Coffee Break NumPy' '4.6']\n",
            " ['Lord of the Rings' '5.0']\n",
            " ['Harry Potter' '4.3']\n",
            " ['Coffee Break Python' '4.7']]\n"
          ]
        }
      ]
    },
    {
      "cell_type": "code",
      "source": [
        "#наблюдаемое значение считается аномальным (outlier), если отличается от среднего более чем на стандартное отклонение. \n",
        "#в случае истинно нормального распределения данных 68,2 % всех точек данных попадает в интервал стандартного отклонения [ω1 = μ – σ, ω2 = μ + σ].\n",
        "#Математическое ожидание, обозначаемое символом μ, представляет собой среднее значение по всем значениям последовательности."
      ],
      "metadata": {
        "id": "jo0BNzDe05I3"
      },
      "execution_count": null,
      "outputs": []
    },
    {
      "cell_type": "code",
      "source": [
        "sequence = np.random.normal(10.0, 1.0, 500)\n",
        "#print(sequence)"
      ],
      "metadata": {
        "id": "bm5eYNCU08Wq"
      },
      "execution_count": null,
      "outputs": []
    },
    {
      "cell_type": "code",
      "source": [
        "plt.xkcd()\n",
        "plt.hist(sequence)\n",
        "plt.annotate(r\"$\\omega_1=9$\", (9, 70))\n",
        "plt.annotate(r\"$\\omega_2=11$\", (11, 70))\n",
        "plt.annotate(r\"$\\mu=10$\", (10, 90))\n",
        "plt.savefig(\"plot.jpg\")\n",
        "plt.show()"
      ],
      "metadata": {
        "colab": {
          "base_uri": "https://localhost:8080/",
          "height": 271
        },
        "id": "5KD5Jfca2O5H",
        "outputId": "437cd44b-00a8-477b-ef28-60d113ea1c63"
      },
      "execution_count": null,
      "outputs": [
        {
          "output_type": "display_data",
          "data": {
            "text/plain": [
              "<Figure size 432x288 with 1 Axes>"
            ],
            "image/png": "[encoded data removed]"
          },
          "metadata": {}
        }
      ]
    },
    {
      "cell_type": "code",
      "source": [
        "## Данные анализа сайта\n",
        "## (строка = день), (столбцы = пользователи, отказы, длительность)\n",
        "a = np.array([[815, 70, 115],\n",
        "              [767, 80, 50],\n",
        "              [912, 74, 77],\n",
        "              [554, 88, 70],\n",
        "              [1008, 65, 128]])\n",
        "mean, stdev = np.mean(a, axis=0), np.std(a, axis=0)\n",
        "print(f' среднее {mean}, стандартное отклонение {stdev}')\n",
        "# [811.2 76.4 88. ], [152.97764543 6.85857128 29.04479299]\n",
        "## Однострочник\n",
        "outliers = ((np.abs(a[:,0] - mean[0]) > stdev[0])\n",
        "* (np.abs(a[:,1] - mean[1]) > stdev[1])\n",
        "* (np.abs(a[:,2] - mean[2]) > stdev[2]))\n",
        "## Результат\n",
        "print(a[outliers])"
      ],
      "metadata": {
        "id": "ZxSThQlq6KaR"
      },
      "execution_count": null,
      "outputs": []
    },
    {
      "cell_type": "code",
      "source": [
        "## Данные: каждая строка соответствует корзине для покупок конкретного покупателя\n",
        "## строка = [курс 1, курс 2, эл. книга 1, эл. книга 2]\n",
        "## значение 1 означает, что товар был куплен\n",
        "basket = np.array([[0, 1, 1, 0],\n",
        "[0, 0, 0, 1],\n",
        "[1, 1, 0, 0],\n",
        "[0, 1, 1, 1],\n",
        "[1, 1, 1, 0],\n",
        "[0, 1, 1, 0],\n",
        "[1, 1, 0, 1],\n",
        "[1, 1, 1, 1]])\n",
        "## Однострочник\n",
        "copurchases = np.sum(np.all(basket[:,2:], axis = 1)) / basket.shape[0]\n",
        "## Результат\n",
        "print(copurchases)\n",
        "basket.shape[0]"
      ],
      "metadata": {
        "colab": {
          "base_uri": "https://localhost:8080/"
        },
        "id": "nnQ4iziy-JcA",
        "outputId": "e6584254-70ed-4804-a0fd-a926d39f1e8c"
      },
      "execution_count": null,
      "outputs": [
        {
          "output_type": "stream",
          "name": "stdout",
          "text": [
            "0.25\n"
          ]
        },
        {
          "output_type": "execute_result",
          "data": {
            "text/plain": [
              "8"
            ]
          },
          "metadata": {},
          "execution_count": 78
        }
      ]
    },
    {
      "cell_type": "code",
      "source": [
        "## Данные: каждая строка соответствует корзине для покупок конкретного покупателя\n",
        "## строка = [курс 1, курс 2, эл. книга 1, эл. книга 2]\n",
        "## значение 1 означает, что товар был куплен\n",
        "basket = np.array([[0, 1, 1, 0],\n",
        "                  [0, 0, 0, 1],\n",
        "                  [1, 1, 0, 0],\n",
        "                  [0, 1, 1, 1],\n",
        "                  [1, 1, 1, 0],\n",
        "                  [0, 1, 1, 0],\n",
        "                  [1, 1, 0, 1],\n",
        "                  [1, 1, 1, 1]])\n",
        "## Однострочник (разбит на две строки)\n",
        "copurchases = [(i,j,np.sum(basket[:,i] + basket[:,j] == 2))\n",
        "for i in range(4) for j in range(i+1,4)]\n",
        "# почувствуй разницу. Матрица 4х4\n",
        "print([(i,j) for i in range(4) for j in range(4)]) # проход по всем индексам\n",
        "print([(i,j) for i in range(4) for j in range(i, 4)]) # проход по единичной матрице / половина\n",
        "print([(i,j) for i in range(4) for j in range(i+1, 4)]) # уникальные значения индексов\n",
        "print(copurchases)\n",
        "## Результат\n",
        "print(max(copurchases, key=lambda x:x[2]))"
      ],
      "metadata": {
        "colab": {
          "base_uri": "https://localhost:8080/"
        },
        "id": "UpcOMo7qD3Hl",
        "outputId": "559f0268-c604-4160-8c9d-b788f816df11"
      },
      "execution_count": null,
      "outputs": [
        {
          "output_type": "stream",
          "name": "stdout",
          "text": [
            "[(0, 0), (0, 1), (0, 2), (0, 3), (1, 0), (1, 1), (1, 2), (1, 3), (2, 0), (2, 1), (2, 2), (2, 3), (3, 0), (3, 1), (3, 2), (3, 3)]\n",
            "[(0, 0), (0, 1), (0, 2), (0, 3), (1, 1), (1, 2), (1, 3), (2, 2), (2, 3), (3, 3)]\n",
            "[(0, 1), (0, 2), (0, 3), (1, 2), (1, 3), (2, 3)]\n",
            "[(0, 1, 4), (0, 2, 2), (0, 3, 2), (1, 2, 5), (1, 3, 3), (2, 3, 2)]\n",
            "(1, 2, 5)\n"
          ]
        }
      ]
    },
    {
      "cell_type": "code",
      "source": [
        "## МОДЕЛЬ линейной регрессии  Данные (курс акций Apple)\n",
        "apple = np.array([155, 156, 157])\n",
        "n = len(apple)\n",
        "## Однострочник\n",
        "model = LinearRegression().fit(np.arange(n).reshape((n,1)), apple)\n",
        "print(np.arange(n))\n",
        "print(np.arange(n).reshape((n,1)))\n",
        "#создали модель с помощью вызова LinearRegression(). Обучили с помощью вызова функции fit().\n",
        "# Она принимает два аргумента: входные признаки обучающих данных и желаемые выходные сигналы для этих входных сигналов.\n",
        "#Для создания последовательности возрастающих значений x мы применим метод np.arange(), \n",
        "#а затем воспользуемся reshape((n, 1)) для преобразования одномерного массива NumPy в двумерный\n",
        "## Результат/ мы передаем матрицу из одного столбца с нашими двумя новыми значениями, для которых требуются предсказания\n",
        "print(model.predict([[3],[4]]))"
      ],
      "metadata": {
        "colab": {
          "base_uri": "https://localhost:8080/"
        },
        "id": "WYvQ3sHcQNOg",
        "outputId": "0661d045-7465-4056-9e38-0e529ab8c78a"
      },
      "execution_count": null,
      "outputs": [
        {
          "output_type": "stream",
          "name": "stdout",
          "text": [
            "[0 1 2]\n",
            "[[0]\n",
            " [1]\n",
            " [2]]\n",
            "[158. 159.]\n"
          ]
        }
      ]
    },
    {
      "cell_type": "code",
      "source": [
        "# многомерная логистическая функция (softmax function), возвращающая кортеж вероятностей, по одной для каждого класса\n",
        "## МОДЕЛЬ логистической регрессии  Данные (#сигареты, рак)\n",
        "n = 4\n",
        "X = np.array([[0, \"No\"],\n",
        "              [10, \"No\"],\n",
        "              [60, \"Yes\"],\n",
        "              [90, \"Yes\"]])\n",
        "## Однострочник\n",
        "model = LogisticRegression().fit(X[:,0].reshape(n,1), X[:,1])\n",
        "## Результат\n",
        "print(model.predict([[2],[12],[13],[40],[90]]))"
      ],
      "metadata": {
        "colab": {
          "base_uri": "https://localhost:8080/"
        },
        "id": "28S9GEQsbMdS",
        "outputId": "9ea1a244-5170-4459-f22c-66a38a4e820d"
      },
      "execution_count": null,
      "outputs": [
        {
          "output_type": "stream",
          "name": "stdout",
          "text": [
            "['No' 'No' 'No' 'Yes' 'Yes']\n"
          ]
        }
      ]
    }
  ]
}