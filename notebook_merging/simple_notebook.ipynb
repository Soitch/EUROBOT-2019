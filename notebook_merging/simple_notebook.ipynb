{
  "cells": [
    {
      "cell_type": "markdown",
      "metadata": {
        "id": "view-in-github",
        "colab_type": "text"
      },
      "source": [
        "<a href=\"https://colab.research.google.com/github/Soitch/EUROBOT-2019/blob/master/notebook_merging/simple_notebook.ipynb\" target=\"_parent\"><img src=\"https://colab.research.google.com/assets/colab-badge.svg\" alt=\"Open In Colab\"/></a>"
      ]
    },
    {
      "cell_type": "code",
      "execution_count": 1,
      "metadata": {
        "id": "M33jGTi2XcPH"
      },
      "outputs": [],
      "source": [
        "import numpy as np\n",
        "import altair as alt\n",
        "import pandas as pd"
      ]
    },
    {
      "cell_type": "markdown",
      "source": [
        "test colab"
      ],
      "metadata": {
        "id": "DWEZylTQXqEw"
      }
    },
    {
      "cell_type": "code",
      "source": [
        "!git init titanic"
      ],
      "metadata": {
        "id": "H4yNfIoXYbyh",
        "outputId": "38fa0e3a-c4b3-4c83-a6ce-f6cb072e6dbc",
        "colab": {
          "base_uri": "https://localhost:8080/"
        }
      },
      "execution_count": 3,
      "outputs": [
        {
          "output_type": "stream",
          "name": "stdout",
          "text": [
            "Initialized empty Git repository in /content/titanic/.git/\n"
          ]
        }
      ]
    },
    {
      "cell_type": "code",
      "source": [
        "%cd titanic/"
      ],
      "metadata": {
        "id": "RBMLxUYLZF4s",
        "outputId": "1b1dd0a2-926c-4f6c-eb7a-b82c8cf4ec43",
        "colab": {
          "base_uri": "https://localhost:8080/"
        }
      },
      "execution_count": 4,
      "outputs": [
        {
          "output_type": "stream",
          "name": "stdout",
          "text": [
            "/content/titanic\n"
          ]
        }
      ]
    },
    {
      "cell_type": "code",
      "source": [
        "!ls -a\n"
      ],
      "metadata": {
        "id": "qMyHtHETabnA",
        "outputId": "03d35bb2-1417-42b2-fcf0-da8435b99a4b",
        "colab": {
          "base_uri": "https://localhost:8080/"
        }
      },
      "execution_count": 7,
      "outputs": [
        {
          "output_type": "stream",
          "name": "stdout",
          "text": [
            ".  ..  .git\n"
          ]
        }
      ]
    },
    {
      "cell_type": "code",
      "source": [
        "#@title форма ввода параметров\n",
        "\n",
        "date_input = '2019-03-01' #@param {type: \"date\"}\n",
        "\n",
        "print(date_input)"
      ],
      "metadata": {
        "id": "VGzjjQufcuFC",
        "outputId": "1125c93e-cebf-48e9-b696-3e83c380e982",
        "colab": {
          "base_uri": "https://localhost:8080/"
        }
      },
      "execution_count": 8,
      "outputs": [
        {
          "output_type": "stream",
          "name": "stdout",
          "text": [
            "2019-03-01\n"
          ]
        }
      ]
    },
    {
      "cell_type": "code",
      "execution_count": 2,
      "metadata": {
        "id": "mOTqWS9aXcPs"
      },
      "outputs": [],
      "source": [
        "x = np.linspace(0,6)\n",
        "y = np.sin(x)\n",
        "df = pd.DataFrame({'x': x, 'y': y})"
      ]
    },
    {
      "cell_type": "code",
      "execution_count": 3,
      "metadata": {
        "colab": {
          "base_uri": "https://localhost:8080/",
          "height": 369
        },
        "id": "EsRpkSRJXcP9",
        "outputId": "92ceca12-54c8-4bb7-897c-d64bf20da01a"
      },
      "outputs": [
        {
          "output_type": "execute_result",
          "data": {
            "text/html": [
              "\n",
              "<div id=\"altair-viz-16e7f8cb54a94707ac1ee39ea1e05aa2\"></div>\n",
              "<script type=\"text/javascript\">\n",
              "  var VEGA_DEBUG = (typeof VEGA_DEBUG == \"undefined\") ? {} : VEGA_DEBUG;\n",
              "  (function(spec, embedOpt){\n",
              "    let outputDiv = document.currentScript.previousElementSibling;\n",
              "    if (outputDiv.id !== \"altair-viz-16e7f8cb54a94707ac1ee39ea1e05aa2\") {\n",
              "      outputDiv = document.getElementById(\"altair-viz-16e7f8cb54a94707ac1ee39ea1e05aa2\");\n",
              "    }\n",
              "    const paths = {\n",
              "      \"vega\": \"https://cdn.jsdelivr.net/npm//vega@5?noext\",\n",
              "      \"vega-lib\": \"https://cdn.jsdelivr.net/npm//vega-lib?noext\",\n",
              "      \"vega-lite\": \"https://cdn.jsdelivr.net/npm//vega-lite@4.17.0?noext\",\n",
              "      \"vega-embed\": \"https://cdn.jsdelivr.net/npm//vega-embed@6?noext\",\n",
              "    };\n",
              "\n",
              "    function maybeLoadScript(lib, version) {\n",
              "      var key = `${lib.replace(\"-\", \"\")}_version`;\n",
              "      return (VEGA_DEBUG[key] == version) ?\n",
              "        Promise.resolve(paths[lib]) :\n",
              "        new Promise(function(resolve, reject) {\n",
              "          var s = document.createElement('script');\n",
              "          document.getElementsByTagName(\"head\")[0].appendChild(s);\n",
              "          s.async = true;\n",
              "          s.onload = () => {\n",
              "            VEGA_DEBUG[key] = version;\n",
              "            return resolve(paths[lib]);\n",
              "          };\n",
              "          s.onerror = () => reject(`Error loading script: ${paths[lib]}`);\n",
              "          s.src = paths[lib];\n",
              "        });\n",
              "    }\n",
              "\n",
              "    function showError(err) {\n",
              "      outputDiv.innerHTML = `<div class=\"error\" style=\"color:red;\">${err}</div>`;\n",
              "      throw err;\n",
              "    }\n",
              "\n",
              "    function displayChart(vegaEmbed) {\n",
              "      vegaEmbed(outputDiv, spec, embedOpt)\n",
              "        .catch(err => showError(`Javascript Error: ${err.message}<br>This usually means there's a typo in your chart specification. See the javascript console for the full traceback.`));\n",
              "    }\n",
              "\n",
              "    if(typeof define === \"function\" && define.amd) {\n",
              "      requirejs.config({paths});\n",
              "      require([\"vega-embed\"], displayChart, err => showError(`Error loading script: ${err.message}`));\n",
              "    } else {\n",
              "      maybeLoadScript(\"vega\", \"5\")\n",
              "        .then(() => maybeLoadScript(\"vega-lite\", \"4.17.0\"))\n",
              "        .then(() => maybeLoadScript(\"vega-embed\", \"6\"))\n",
              "        .catch(showError)\n",
              "        .then(() => displayChart(vegaEmbed));\n",
              "    }\n",
              "  })({\"config\": {\"view\": {\"continuousWidth\": 400, \"continuousHeight\": 300}}, \"data\": {\"name\": \"data-01993f5ff9b8324361a79cba7b1eeecf\"}, \"mark\": {\"type\": \"point\", \"color\": \"red\"}, \"encoding\": {\"x\": {\"field\": \"x\", \"type\": \"quantitative\"}, \"y\": {\"field\": \"y\", \"type\": \"quantitative\"}}, \"$schema\": \"https://vega.github.io/schema/vega-lite/v4.17.0.json\", \"datasets\": {\"data-01993f5ff9b8324361a79cba7b1eeecf\": [{\"x\": 0.0, \"y\": 0.0}, {\"x\": 0.12244897959183673, \"y\": 0.12214321395950552}, {\"x\": 0.24489795918367346, \"y\": 0.24245732992136676}, {\"x\": 0.36734693877551017, \"y\": 0.359140640680899}, {\"x\": 0.4897959183673469, \"y\": 0.470445810441457}, {\"x\": 0.6122448979591837, \"y\": 0.5747060412161792}, {\"x\": 0.7346938775510203, \"y\": 0.6703600331738099}, {\"x\": 0.8571428571428571, \"y\": 0.7559753651467324}, {\"x\": 0.9795918367346939, \"y\": 0.8302699451774574}, {\"x\": 1.1020408163265305, \"y\": 0.8921312098810471}, {\"x\": 1.2244897959183674, \"y\": 0.9406327851124867}, {\"x\": 1.346938775510204, \"y\": 0.9750483584450551}, {\"x\": 1.4693877551020407, \"y\": 0.9948625557189466}, {\"x\": 1.5918367346938775, \"y\": 0.9997786587835266}, {\"x\": 1.7142857142857142, \"y\": 0.9897230488598214}, {\"x\": 1.836734693877551, \"y\": 0.9648463089837632}, {\"x\": 1.9591836734693877, \"y\": 0.9255209690210744}, {\"x\": 2.0816326530612246, \"y\": 0.8723359270222536}, {\"x\": 2.204081632653061, \"y\": 0.8060876304580296}, {\"x\": 2.326530612244898, \"y\": 0.7277681493965198}, {\"x\": 2.4489795918367347, \"y\": 0.6385503202266021}, {\"x\": 2.571428571428571, \"y\": 0.5397701824006441}, {\"x\": 2.693877551020408, \"y\": 0.43290697120685695}, {\"x\": 2.816326530612245, \"y\": 0.3195609661800597}, {\"x\": 2.9387755102040813, \"y\": 0.20142952687151064}, {\"x\": 3.061224489795918, \"y\": 0.08028167484281394}, {\"x\": 3.183673469387755, \"y\": -0.042068397480750745}, {\"x\": 3.306122448979592, \"y\": -0.16378849439183238}, {\"x\": 3.4285714285714284, \"y\": -0.2830558540822556}, {\"x\": 3.5510204081632653, \"y\": -0.39808444455137}, {\"x\": 3.673469387755102, \"y\": -0.5071517094845144}, {\"x\": 3.7959183673469385, \"y\": -0.6086243635813369}, {\"x\": 3.9183673469387754, \"y\": -0.7009828510482132}, {\"x\": 4.040816326530612, \"y\": -0.7828441009881617}, {\"x\": 4.163265306122449, \"y\": -0.8529822389256724}, {\"x\": 4.285714285714286, \"y\": -0.9103469443107828}, {\"x\": 4.408163265306122, \"y\": -0.954079179098284}, {\"x\": 4.530612244897959, \"y\": -0.9835240518661377}, {\"x\": 4.653061224489796, \"y\": -0.9982406248325814}, {\"x\": 4.775510204081632, \"y\": -0.9980085169115729}, {\"x\": 4.8979591836734695, \"y\": -0.9828312039256306}, {\"x\": 5.020408163265306, \"y\": -0.9529359665552959}, {\"x\": 5.142857142857142, \"y\": -0.9087704868046733}, {\"x\": 5.26530612244898, \"y\": -0.8509961439510726}, {\"x\": 5.387755102040816, \"y\": -0.7804781103720918}, {\"x\": 5.5102040816326525, \"y\": -0.6982723955654002}, {\"x\": 5.63265306122449, \"y\": -0.6056100323773875}, {\"x\": 5.755102040816326, \"y\": -0.5038786422523407}, {\"x\": 5.877551020408163, \"y\": -0.3946016555630425}, {\"x\": 6.0, \"y\": -0.27941549819892586}]}}, {\"mode\": \"vega-lite\"});\n",
              "</script>"
            ],
            "text/plain": [
              "alt.Chart(...)"
            ]
          },
          "metadata": {},
          "execution_count": 3
        }
      ],
      "source": [
        "alt.Chart(df\n",
        "        ).mark_point(\n",
        "            color='red'\n",
        "        ).encode(\n",
        "            x='x:Q',\n",
        "            y='y:Q')"
      ]
    },
    {
      "cell_type": "code",
      "execution_count": null,
      "metadata": {
        "id": "xqUQIu2pXcQY"
      },
      "outputs": [],
      "source": [
        ""
      ]
    }
  ],
  "metadata": {
    "jupytext_formats": "md:markdown",
    "kernelspec": {
      "display_name": "Python 3",
      "language": "python",
      "name": "python3"
    },
    "language_info": {
      "codemirror_mode": {
        "name": "ipython",
        "version": 3
      },
      "file_extension": ".py",
      "mimetype": "text/x-python",
      "name": "python",
      "nbconvert_exporter": "python",
      "pygments_lexer": "ipython3",
      "version": "3.7.0"
    },
    "main_language": "python",
    "colab": {
      "name": "simple_notebook.ipynb",
      "provenance": [],
      "include_colab_link": true
    }
  },
  "nbformat": 4,
  "nbformat_minor": 0
}